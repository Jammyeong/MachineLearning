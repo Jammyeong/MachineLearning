{
  "nbformat": 4,
  "nbformat_minor": 0,
  "metadata": {
    "colab": {
      "provenance": [],
      "authorship_tag": "ABX9TyNRiwTwwEGP3hVAYzW2bxX2",
      "include_colab_link": true
    },
    "kernelspec": {
      "name": "python3",
      "display_name": "Python 3"
    },
    "language_info": {
      "name": "python"
    }
  },
  "cells": [
    {
      "cell_type": "markdown",
      "metadata": {
        "id": "view-in-github",
        "colab_type": "text"
      },
      "source": [
        "<a href=\"https://colab.research.google.com/github/Jammyeong/MachineLearning/blob/main/3rdWeek/Tugas%203%20Machine%20Learning.ipynb\" target=\"_parent\"><img src=\"https://colab.research.google.com/assets/colab-badge.svg\" alt=\"Open In Colab\"/></a>"
      ]
    },
    {
      "cell_type": "markdown",
      "source": [
        "# Tugas 3 Machine Learning"
      ],
      "metadata": {
        "id": "C18-D_6QLDps"
      }
    },
    {
      "cell_type": "markdown",
      "source": [
        "Nama : Nisrina Nurjauza Fasya\n",
        "NIM : 1103210056"
      ],
      "metadata": {
        "id": "qyYsMf8HLHb2"
      }
    },
    {
      "cell_type": "code",
      "source": [
        "import pandas as pd\n",
        "import seaborn as sns\n",
        "import numpy as np\n",
        "import matplotlib.pyplot as plt\n",
        "import math\n",
        "from sklearn.model_selection import train_test_split\n",
        "from sklearn.preprocessing import StandardScaler, PolynomialFeatures\n",
        "from sklearn.tree import DecisionTreeClassifier, DecisionTreeRegressor\n",
        "from sklearn.metrics import classification_report, roc_auc_score, roc_curve, accuracy_score\n",
        "from sklearn.neighbors import KNeighborsClassifier, KNeighborsRegressor\n",
        "from sklearn.linear_model import LinearRegression\n",
        "from sklearn.metrics import mean_squared_error, r2_score"
      ],
      "metadata": {
        "id": "MdRo9zFN6wtV"
      },
      "execution_count": 2,
      "outputs": []
    },
    {
      "cell_type": "markdown",
      "source": [
        "## Classification model: Decision Tree dan k-NN"
      ],
      "metadata": {
        "id": "0MgjsAatLMK7"
      }
    },
    {
      "cell_type": "code",
      "source": [
        "from google.colab import drive # Mengimpor library dari Google Colab untuk mengakses Google Drive\n",
        "drive.mount('/content/drive') # Memasang (mount) Google Drive ke dalam sistem file lokal di Colab"
      ],
      "metadata": {
        "colab": {
          "base_uri": "https://localhost:8080/"
        },
        "id": "6wkLJ6i-LY1E",
        "outputId": "d314a46e-e0bb-41b3-b44c-5669e9d30fa4"
      },
      "execution_count": 3,
      "outputs": [
        {
          "output_type": "stream",
          "name": "stdout",
          "text": [
            "Mounted at /content/drive\n"
          ]
        }
      ]
    },
    {
      "cell_type": "code",
      "source": [
        "# Load dataset\n",
        "df = pd.read_csv('/content/drive/MyDrive/SEMESTER 7/Machine Learning/CreditDataset.csv')\n",
        "\n",
        "# Menampilkan beberapa baris awal\n",
        "df.head()"
      ],
      "metadata": {
        "colab": {
          "base_uri": "https://localhost:8080/",
          "height": 235
        },
        "id": "qP0OGE4FLv5L",
        "outputId": "0267f8b8-04c0-4119-a15e-e4f76665ba57"
      },
      "execution_count": 6,
      "outputs": [
        {
          "output_type": "execute_result",
          "data": {
            "text/plain": [
              "    x1  x2   x3   x4    x5   x6   x7  x8   x9   x10  ...   x12 x13   x14  \\\n",
              "0  A11   6  A34  A43  1169  A65  A75   4  A93  A101  ...  A121  67  A143   \n",
              "1  A12  48  A32  A43  5951  A61  A73   2  A92  A101  ...  A121  22  A143   \n",
              "2  A14  12  A34  A46  2096  A61  A74   2  A93  A101  ...  A121  49  A143   \n",
              "3  A11  42  A32  A42  7882  A61  A74   2  A93  A103  ...  A122  45  A143   \n",
              "4  A11  24  A33  A40  4870  A61  A73   3  A93  A101  ...  A124  53  A143   \n",
              "\n",
              "    x15 x16   x17 x18   x19   x20 Class  \n",
              "0  A152   2  A173   1  A192  A201     1  \n",
              "1  A152   1  A173   1  A191  A201     2  \n",
              "2  A152   1  A172   2  A191  A201     1  \n",
              "3  A153   1  A173   2  A191  A201     1  \n",
              "4  A153   2  A173   2  A191  A201     2  \n",
              "\n",
              "[5 rows x 21 columns]"
            ],
            "text/html": [
              "\n",
              "  <div id=\"df-a6e2d795-1f86-44fc-af81-0853783c4302\" class=\"colab-df-container\">\n",
              "    <div>\n",
              "<style scoped>\n",
              "    .dataframe tbody tr th:only-of-type {\n",
              "        vertical-align: middle;\n",
              "    }\n",
              "\n",
              "    .dataframe tbody tr th {\n",
              "        vertical-align: top;\n",
              "    }\n",
              "\n",
              "    .dataframe thead th {\n",
              "        text-align: right;\n",
              "    }\n",
              "</style>\n",
              "<table border=\"1\" class=\"dataframe\">\n",
              "  <thead>\n",
              "    <tr style=\"text-align: right;\">\n",
              "      <th></th>\n",
              "      <th>x1</th>\n",
              "      <th>x2</th>\n",
              "      <th>x3</th>\n",
              "      <th>x4</th>\n",
              "      <th>x5</th>\n",
              "      <th>x6</th>\n",
              "      <th>x7</th>\n",
              "      <th>x8</th>\n",
              "      <th>x9</th>\n",
              "      <th>x10</th>\n",
              "      <th>...</th>\n",
              "      <th>x12</th>\n",
              "      <th>x13</th>\n",
              "      <th>x14</th>\n",
              "      <th>x15</th>\n",
              "      <th>x16</th>\n",
              "      <th>x17</th>\n",
              "      <th>x18</th>\n",
              "      <th>x19</th>\n",
              "      <th>x20</th>\n",
              "      <th>Class</th>\n",
              "    </tr>\n",
              "  </thead>\n",
              "  <tbody>\n",
              "    <tr>\n",
              "      <th>0</th>\n",
              "      <td>A11</td>\n",
              "      <td>6</td>\n",
              "      <td>A34</td>\n",
              "      <td>A43</td>\n",
              "      <td>1169</td>\n",
              "      <td>A65</td>\n",
              "      <td>A75</td>\n",
              "      <td>4</td>\n",
              "      <td>A93</td>\n",
              "      <td>A101</td>\n",
              "      <td>...</td>\n",
              "      <td>A121</td>\n",
              "      <td>67</td>\n",
              "      <td>A143</td>\n",
              "      <td>A152</td>\n",
              "      <td>2</td>\n",
              "      <td>A173</td>\n",
              "      <td>1</td>\n",
              "      <td>A192</td>\n",
              "      <td>A201</td>\n",
              "      <td>1</td>\n",
              "    </tr>\n",
              "    <tr>\n",
              "      <th>1</th>\n",
              "      <td>A12</td>\n",
              "      <td>48</td>\n",
              "      <td>A32</td>\n",
              "      <td>A43</td>\n",
              "      <td>5951</td>\n",
              "      <td>A61</td>\n",
              "      <td>A73</td>\n",
              "      <td>2</td>\n",
              "      <td>A92</td>\n",
              "      <td>A101</td>\n",
              "      <td>...</td>\n",
              "      <td>A121</td>\n",
              "      <td>22</td>\n",
              "      <td>A143</td>\n",
              "      <td>A152</td>\n",
              "      <td>1</td>\n",
              "      <td>A173</td>\n",
              "      <td>1</td>\n",
              "      <td>A191</td>\n",
              "      <td>A201</td>\n",
              "      <td>2</td>\n",
              "    </tr>\n",
              "    <tr>\n",
              "      <th>2</th>\n",
              "      <td>A14</td>\n",
              "      <td>12</td>\n",
              "      <td>A34</td>\n",
              "      <td>A46</td>\n",
              "      <td>2096</td>\n",
              "      <td>A61</td>\n",
              "      <td>A74</td>\n",
              "      <td>2</td>\n",
              "      <td>A93</td>\n",
              "      <td>A101</td>\n",
              "      <td>...</td>\n",
              "      <td>A121</td>\n",
              "      <td>49</td>\n",
              "      <td>A143</td>\n",
              "      <td>A152</td>\n",
              "      <td>1</td>\n",
              "      <td>A172</td>\n",
              "      <td>2</td>\n",
              "      <td>A191</td>\n",
              "      <td>A201</td>\n",
              "      <td>1</td>\n",
              "    </tr>\n",
              "    <tr>\n",
              "      <th>3</th>\n",
              "      <td>A11</td>\n",
              "      <td>42</td>\n",
              "      <td>A32</td>\n",
              "      <td>A42</td>\n",
              "      <td>7882</td>\n",
              "      <td>A61</td>\n",
              "      <td>A74</td>\n",
              "      <td>2</td>\n",
              "      <td>A93</td>\n",
              "      <td>A103</td>\n",
              "      <td>...</td>\n",
              "      <td>A122</td>\n",
              "      <td>45</td>\n",
              "      <td>A143</td>\n",
              "      <td>A153</td>\n",
              "      <td>1</td>\n",
              "      <td>A173</td>\n",
              "      <td>2</td>\n",
              "      <td>A191</td>\n",
              "      <td>A201</td>\n",
              "      <td>1</td>\n",
              "    </tr>\n",
              "    <tr>\n",
              "      <th>4</th>\n",
              "      <td>A11</td>\n",
              "      <td>24</td>\n",
              "      <td>A33</td>\n",
              "      <td>A40</td>\n",
              "      <td>4870</td>\n",
              "      <td>A61</td>\n",
              "      <td>A73</td>\n",
              "      <td>3</td>\n",
              "      <td>A93</td>\n",
              "      <td>A101</td>\n",
              "      <td>...</td>\n",
              "      <td>A124</td>\n",
              "      <td>53</td>\n",
              "      <td>A143</td>\n",
              "      <td>A153</td>\n",
              "      <td>2</td>\n",
              "      <td>A173</td>\n",
              "      <td>2</td>\n",
              "      <td>A191</td>\n",
              "      <td>A201</td>\n",
              "      <td>2</td>\n",
              "    </tr>\n",
              "  </tbody>\n",
              "</table>\n",
              "<p>5 rows × 21 columns</p>\n",
              "</div>\n",
              "    <div class=\"colab-df-buttons\">\n",
              "\n",
              "  <div class=\"colab-df-container\">\n",
              "    <button class=\"colab-df-convert\" onclick=\"convertToInteractive('df-a6e2d795-1f86-44fc-af81-0853783c4302')\"\n",
              "            title=\"Convert this dataframe to an interactive table.\"\n",
              "            style=\"display:none;\">\n",
              "\n",
              "  <svg xmlns=\"http://www.w3.org/2000/svg\" height=\"24px\" viewBox=\"0 -960 960 960\">\n",
              "    <path d=\"M120-120v-720h720v720H120Zm60-500h600v-160H180v160Zm220 220h160v-160H400v160Zm0 220h160v-160H400v160ZM180-400h160v-160H180v160Zm440 0h160v-160H620v160ZM180-180h160v-160H180v160Zm440 0h160v-160H620v160Z\"/>\n",
              "  </svg>\n",
              "    </button>\n",
              "\n",
              "  <style>\n",
              "    .colab-df-container {\n",
              "      display:flex;\n",
              "      gap: 12px;\n",
              "    }\n",
              "\n",
              "    .colab-df-convert {\n",
              "      background-color: #E8F0FE;\n",
              "      border: none;\n",
              "      border-radius: 50%;\n",
              "      cursor: pointer;\n",
              "      display: none;\n",
              "      fill: #1967D2;\n",
              "      height: 32px;\n",
              "      padding: 0 0 0 0;\n",
              "      width: 32px;\n",
              "    }\n",
              "\n",
              "    .colab-df-convert:hover {\n",
              "      background-color: #E2EBFA;\n",
              "      box-shadow: 0px 1px 2px rgba(60, 64, 67, 0.3), 0px 1px 3px 1px rgba(60, 64, 67, 0.15);\n",
              "      fill: #174EA6;\n",
              "    }\n",
              "\n",
              "    .colab-df-buttons div {\n",
              "      margin-bottom: 4px;\n",
              "    }\n",
              "\n",
              "    [theme=dark] .colab-df-convert {\n",
              "      background-color: #3B4455;\n",
              "      fill: #D2E3FC;\n",
              "    }\n",
              "\n",
              "    [theme=dark] .colab-df-convert:hover {\n",
              "      background-color: #434B5C;\n",
              "      box-shadow: 0px 1px 3px 1px rgba(0, 0, 0, 0.15);\n",
              "      filter: drop-shadow(0px 1px 2px rgba(0, 0, 0, 0.3));\n",
              "      fill: #FFFFFF;\n",
              "    }\n",
              "  </style>\n",
              "\n",
              "    <script>\n",
              "      const buttonEl =\n",
              "        document.querySelector('#df-a6e2d795-1f86-44fc-af81-0853783c4302 button.colab-df-convert');\n",
              "      buttonEl.style.display =\n",
              "        google.colab.kernel.accessAllowed ? 'block' : 'none';\n",
              "\n",
              "      async function convertToInteractive(key) {\n",
              "        const element = document.querySelector('#df-a6e2d795-1f86-44fc-af81-0853783c4302');\n",
              "        const dataTable =\n",
              "          await google.colab.kernel.invokeFunction('convertToInteractive',\n",
              "                                                    [key], {});\n",
              "        if (!dataTable) return;\n",
              "\n",
              "        const docLinkHtml = 'Like what you see? Visit the ' +\n",
              "          '<a target=\"_blank\" href=https://colab.research.google.com/notebooks/data_table.ipynb>data table notebook</a>'\n",
              "          + ' to learn more about interactive tables.';\n",
              "        element.innerHTML = '';\n",
              "        dataTable['output_type'] = 'display_data';\n",
              "        await google.colab.output.renderOutput(dataTable, element);\n",
              "        const docLink = document.createElement('div');\n",
              "        docLink.innerHTML = docLinkHtml;\n",
              "        element.appendChild(docLink);\n",
              "      }\n",
              "    </script>\n",
              "  </div>\n",
              "\n",
              "\n",
              "<div id=\"df-91d864c4-7230-4e45-8da6-45ff259dc149\">\n",
              "  <button class=\"colab-df-quickchart\" onclick=\"quickchart('df-91d864c4-7230-4e45-8da6-45ff259dc149')\"\n",
              "            title=\"Suggest charts\"\n",
              "            style=\"display:none;\">\n",
              "\n",
              "<svg xmlns=\"http://www.w3.org/2000/svg\" height=\"24px\"viewBox=\"0 0 24 24\"\n",
              "     width=\"24px\">\n",
              "    <g>\n",
              "        <path d=\"M19 3H5c-1.1 0-2 .9-2 2v14c0 1.1.9 2 2 2h14c1.1 0 2-.9 2-2V5c0-1.1-.9-2-2-2zM9 17H7v-7h2v7zm4 0h-2V7h2v10zm4 0h-2v-4h2v4z\"/>\n",
              "    </g>\n",
              "</svg>\n",
              "  </button>\n",
              "\n",
              "<style>\n",
              "  .colab-df-quickchart {\n",
              "      --bg-color: #E8F0FE;\n",
              "      --fill-color: #1967D2;\n",
              "      --hover-bg-color: #E2EBFA;\n",
              "      --hover-fill-color: #174EA6;\n",
              "      --disabled-fill-color: #AAA;\n",
              "      --disabled-bg-color: #DDD;\n",
              "  }\n",
              "\n",
              "  [theme=dark] .colab-df-quickchart {\n",
              "      --bg-color: #3B4455;\n",
              "      --fill-color: #D2E3FC;\n",
              "      --hover-bg-color: #434B5C;\n",
              "      --hover-fill-color: #FFFFFF;\n",
              "      --disabled-bg-color: #3B4455;\n",
              "      --disabled-fill-color: #666;\n",
              "  }\n",
              "\n",
              "  .colab-df-quickchart {\n",
              "    background-color: var(--bg-color);\n",
              "    border: none;\n",
              "    border-radius: 50%;\n",
              "    cursor: pointer;\n",
              "    display: none;\n",
              "    fill: var(--fill-color);\n",
              "    height: 32px;\n",
              "    padding: 0;\n",
              "    width: 32px;\n",
              "  }\n",
              "\n",
              "  .colab-df-quickchart:hover {\n",
              "    background-color: var(--hover-bg-color);\n",
              "    box-shadow: 0 1px 2px rgba(60, 64, 67, 0.3), 0 1px 3px 1px rgba(60, 64, 67, 0.15);\n",
              "    fill: var(--button-hover-fill-color);\n",
              "  }\n",
              "\n",
              "  .colab-df-quickchart-complete:disabled,\n",
              "  .colab-df-quickchart-complete:disabled:hover {\n",
              "    background-color: var(--disabled-bg-color);\n",
              "    fill: var(--disabled-fill-color);\n",
              "    box-shadow: none;\n",
              "  }\n",
              "\n",
              "  .colab-df-spinner {\n",
              "    border: 2px solid var(--fill-color);\n",
              "    border-color: transparent;\n",
              "    border-bottom-color: var(--fill-color);\n",
              "    animation:\n",
              "      spin 1s steps(1) infinite;\n",
              "  }\n",
              "\n",
              "  @keyframes spin {\n",
              "    0% {\n",
              "      border-color: transparent;\n",
              "      border-bottom-color: var(--fill-color);\n",
              "      border-left-color: var(--fill-color);\n",
              "    }\n",
              "    20% {\n",
              "      border-color: transparent;\n",
              "      border-left-color: var(--fill-color);\n",
              "      border-top-color: var(--fill-color);\n",
              "    }\n",
              "    30% {\n",
              "      border-color: transparent;\n",
              "      border-left-color: var(--fill-color);\n",
              "      border-top-color: var(--fill-color);\n",
              "      border-right-color: var(--fill-color);\n",
              "    }\n",
              "    40% {\n",
              "      border-color: transparent;\n",
              "      border-right-color: var(--fill-color);\n",
              "      border-top-color: var(--fill-color);\n",
              "    }\n",
              "    60% {\n",
              "      border-color: transparent;\n",
              "      border-right-color: var(--fill-color);\n",
              "    }\n",
              "    80% {\n",
              "      border-color: transparent;\n",
              "      border-right-color: var(--fill-color);\n",
              "      border-bottom-color: var(--fill-color);\n",
              "    }\n",
              "    90% {\n",
              "      border-color: transparent;\n",
              "      border-bottom-color: var(--fill-color);\n",
              "    }\n",
              "  }\n",
              "</style>\n",
              "\n",
              "  <script>\n",
              "    async function quickchart(key) {\n",
              "      const quickchartButtonEl =\n",
              "        document.querySelector('#' + key + ' button');\n",
              "      quickchartButtonEl.disabled = true;  // To prevent multiple clicks.\n",
              "      quickchartButtonEl.classList.add('colab-df-spinner');\n",
              "      try {\n",
              "        const charts = await google.colab.kernel.invokeFunction(\n",
              "            'suggestCharts', [key], {});\n",
              "      } catch (error) {\n",
              "        console.error('Error during call to suggestCharts:', error);\n",
              "      }\n",
              "      quickchartButtonEl.classList.remove('colab-df-spinner');\n",
              "      quickchartButtonEl.classList.add('colab-df-quickchart-complete');\n",
              "    }\n",
              "    (() => {\n",
              "      let quickchartButtonEl =\n",
              "        document.querySelector('#df-91d864c4-7230-4e45-8da6-45ff259dc149 button');\n",
              "      quickchartButtonEl.style.display =\n",
              "        google.colab.kernel.accessAllowed ? 'block' : 'none';\n",
              "    })();\n",
              "  </script>\n",
              "</div>\n",
              "\n",
              "    </div>\n",
              "  </div>\n"
            ],
            "application/vnd.google.colaboratory.intrinsic+json": {
              "type": "dataframe",
              "variable_name": "df"
            }
          },
          "metadata": {},
          "execution_count": 6
        }
      ]
    },
    {
      "cell_type": "code",
      "source": [
        "# Pisahkan fitur (X) dan target (y)\n",
        "X = df.drop(columns='Class')  # Kolom fitur\n",
        "y = df['Class']  # Kolom target\n",
        "\n",
        "# One-Hot Encoding untuk mengonversi kolom kategorikal menjadi numerik\n",
        "X_encoded = pd.get_dummies(X)\n",
        "\n",
        "# Split dataset menjadi train dan test set\n",
        "X_train, X_test, y_train, y_test = train_test_split(X_encoded, y, test_size=0.3, random_state=42)\n",
        "\n",
        "# Normalisasi data untuk k-NN\n",
        "scaler = StandardScaler()\n",
        "X_train_scaled = scaler.fit_transform(X_train)\n",
        "X_test_scaled = scaler.transform(X_test)"
      ],
      "metadata": {
        "id": "nEKCH7zdNmuV"
      },
      "execution_count": 8,
      "outputs": []
    },
    {
      "cell_type": "code",
      "source": [
        "# Melatih model Decision Tree dengan data training\n",
        "dt_model = DecisionTreeClassifier(random_state=42)  # Inisialisasi model Decision Tree dengan seed (random_state) untuk reprodusibilitas\n",
        "dt_model.fit(X_train, y_train)  # Melatih model dengan data training (X_train dan y_train)\n",
        "\n",
        "# Membuat prediksi dengan menggunakan model Decision Tree yang sudah dilatih\n",
        "y_pred_dt = dt_model.predict(X_test)  # Melakukan prediksi pada data testing (X_test)\n",
        "\n",
        "print(\"Decision Tree Classification Report:\") # Mengevaluasi model Decision Tree dengan menghasilkan laporan klasifikasi\n",
        "print(classification_report(y_test, y_pred_dt))  # Menampilkan laporan klasifikasi yang berisi metrik seperti presisi, recall, F1-score\n",
        "\n",
        "# Menghitung ROC AUC untuk mengevaluasi performa model dengan skor probabilitas\n",
        "y_pred_proba_dt = dt_model.predict_proba(X_test)[:, 1]  # Mengambil probabilitas prediksi untuk kelas positif (kolom kedua dari hasil predict_proba)\n",
        "auc_dt = roc_auc_score(y_test, y_pred_proba_dt)  # Menghitung AUC (Area Under Curve) untuk kurva ROC\n",
        "print(\"Decision Tree AUC:\", auc_dt)  # Menampilkan nilai AUC, yang mengukur kemampuan model dalam memisahkan kelas positif dan negatif\n"
      ],
      "metadata": {
        "colab": {
          "base_uri": "https://localhost:8080/"
        },
        "id": "jKQSI2s9CL-H",
        "outputId": "f4a040ca-ddef-4674-b226-8f8d21eec4ce"
      },
      "execution_count": 9,
      "outputs": [
        {
          "output_type": "stream",
          "name": "stdout",
          "text": [
            "Decision Tree Classification Report:\n",
            "              precision    recall  f1-score   support\n",
            "\n",
            "           1       0.78      0.75      0.76       209\n",
            "           2       0.47      0.52      0.49        91\n",
            "\n",
            "    accuracy                           0.68       300\n",
            "   macro avg       0.62      0.63      0.63       300\n",
            "weighted avg       0.69      0.68      0.68       300\n",
            "\n",
            "Decision Tree AUC: 0.6314474998685525\n"
          ]
        }
      ]
    },
    {
      "cell_type": "code",
      "source": [
        "# Melatih model k-NN dengan data training yang sudah di-scale\n",
        "knn_model = KNeighborsClassifier(n_neighbors=5)  # Inisialisasi model k-NN dengan jumlah tetangga 5\n",
        "knn_model.fit(X_train_scaled, y_train)  # Melatih model k-NN menggunakan data training yang sudah dinormalisasi (X_train_scaled)\n",
        "\n",
        "# Membuat prediksi menggunakan model k-NN yang sudah dilatih\n",
        "y_pred_knn = knn_model.predict(X_test_scaled)  # Melakukan prediksi pada data testing yang sudah di-scale (X_test_scaled)\n",
        "\n",
        "# Mengevaluasi model k-NN dengan menghasilkan laporan klasifikasi\n",
        "print(\"k-NN Classification Report:\")\n",
        "print(classification_report(y_test, y_pred_knn))  # Menampilkan laporan klasifikasi dengan metrik seperti presisi, recall, F1-score\n",
        "\n",
        "# Menghitung ROC AUC untuk model k-NN\n",
        "y_pred_proba_knn = knn_model.predict_proba(X_test_scaled)[:, 1]  # Mengambil probabilitas prediksi untuk kelas positif (kolom kedua dari hasil predict_proba)\n",
        "auc_knn = roc_auc_score(y_test, y_pred_proba_knn)  # Menghitung nilai AUC (Area Under Curve) untuk kurva ROC\n",
        "print(\"k-NN AUC:\", auc_knn)  # Menampilkan nilai AUC, yang mengukur kemampuan model dalam membedakan kelas positif dan negatif"
      ],
      "metadata": {
        "colab": {
          "base_uri": "https://localhost:8080/"
        },
        "id": "lMZ-1Ag1C4Fq",
        "outputId": "06aa97a5-37f1-4683-d797-80bbe8dbb93e"
      },
      "execution_count": 10,
      "outputs": [
        {
          "output_type": "stream",
          "name": "stdout",
          "text": [
            "k-NN Classification Report:\n",
            "              precision    recall  f1-score   support\n",
            "\n",
            "           1       0.76      0.87      0.81       209\n",
            "           2       0.54      0.36      0.43        91\n",
            "\n",
            "    accuracy                           0.71       300\n",
            "   macro avg       0.65      0.61      0.62       300\n",
            "weighted avg       0.69      0.71      0.69       300\n",
            "\n",
            "k-NN AUC: 0.7016930437983069\n"
          ]
        }
      ]
    },
    {
      "cell_type": "code",
      "source": [
        "y_test_binary = y_test.replace({2: 0})  # Mengubah kelas target dari {1, 2} menjadi {0, 1}\n",
        "fpr_dt, tpr_dt, _ = roc_curve(y_test_binary, y_pred_proba_dt)  # Menghitung False Positive Rate (fpr) dan True Positive Rate (tpr) untuk model Decision Tree\n",
        "fpr_knn, tpr_knn, _ = roc_curve(y_test_binary, y_pred_proba_knn)  # Menghitung False Positive Rate (fpr) dan True Positive Rate (tpr) untuk model k-NN\n",
        "\n",
        "# Membuat plot ROC curve\n",
        "plt.figure(figsize=(8, 6))  # Mengatur ukuran plot\n",
        "plt.plot(fpr_dt, tpr_dt, label='Decision Tree')  # Plot ROC curve untuk model Decision Tree\n",
        "plt.plot(fpr_knn, tpr_knn, label='k-NN')  # Plot ROC curve untuk model k-NN\n",
        "plt.plot([0, 1], [0, 1], 'k--')  # Membuat garis diagonal (baseline) sebagai acuan model acak\n",
        "plt.xlabel('False Positive Rate')  # Label sumbu X (tingkat false positive)\n",
        "plt.ylabel('True Positive Rate')  # Label sumbu Y (tingkat true positive)\n",
        "plt.title('ROC Curve')  # Judul plot\n",
        "plt.legend(loc='best')  # Menambahkan legenda di lokasi terbaik\n",
        "plt.show()  # Menampilkan plot"
      ],
      "metadata": {
        "colab": {
          "base_uri": "https://localhost:8080/",
          "height": 564
        },
        "id": "caERENMoC6Re",
        "outputId": "827e4d45-3bd8-4778-9a34-8a4821ef0cb0"
      },
      "execution_count": 11,
      "outputs": [
        {
          "output_type": "display_data",
          "data": {
            "text/plain": [
              "<Figure size 800x600 with 1 Axes>"
            ],
            "image/png": "[encoded data removed]"
          },
          "metadata": {}
        }
      ]
    },
    {
      "cell_type": "code",
      "source": [
        "sns.countplot(x='Class', data=credit_data)  # Menampilkan jumlah observasi di setiap kategori dalam kolom 'Class'\n",
        "plt.title('Distribusi Status Kredit')  # Menambahkan judul grafik yang menjelaskan konten visualisasi\n",
        "plt.xlabel('Status Kredit (1 = Tidak Gagal Bayar, 2 = Gagal Bayar)')  # Menjelaskan bahwa sumbu X berisi status kredit\n",
        "plt.ylabel('Jumlah')  # Menjelaskan bahwa sumbu Y menunjukkan jumlah observasi untuk setiap kategori kredit\n",
        "plt.show()  # Menampilkan grafik di jendela output"
      ],
      "metadata": {
        "colab": {
          "base_uri": "https://localhost:8080/",
          "height": 472
        },
        "id": "o_ZHqYFGxcza",
        "outputId": "bf9161d6-6d4c-4f37-9fb3-34f8cd9eeda3"
      },
      "execution_count": 12,
      "outputs": [
        {
          "output_type": "display_data",
          "data": {
            "text/plain": [
              "<Figure size 640x480 with 1 Axes>"
            ],
            "image/png": "[encoded data removed]"
          },
          "metadata": {}
        }
      ]
    },
    {
      "cell_type": "markdown",
      "source": [
        "## Regression model: Decision Tree  dan k-NN"
      ],
      "metadata": {
        "id": "rFzHg1mxuXrr"
      }
    },
    {
      "cell_type": "code",
      "source": [
        "# Pisahkan X (fitur) dan y (target)\n",
        "# Misalkan y adalah 'x5' yang merupakan jumlah kredit\n",
        "X = credit_data.drop(columns='x5')  # Semua fitur kecuali kolom target (misalnya x5)\n",
        "y = credit_data['x5']  # Kolom target yang akan diprediksi (misalnya jumlah kredit)\n",
        "\n",
        "# One-Hot Encoding untuk kolom kategorikal\n",
        "X_encoded = pd.get_dummies(X)\n",
        "\n",
        "# Split dataset menjadi train dan test set\n",
        "X_train, X_test, y_train, y_test = train_test_split(X_encoded, y, test_size=0.3, random_state=42)\n",
        "\n",
        "# Standardisasi data\n",
        "scaler = StandardScaler()\n",
        "X_train_scaled = scaler.fit_transform(X_train)\n",
        "X_test_scaled = scaler.transform(X_test)"
      ],
      "metadata": {
        "id": "i_5GQ3DLuaNn"
      },
      "execution_count": 14,
      "outputs": []
    },
    {
      "cell_type": "code",
      "source": [
        "# 1. Decision Tree Regression\n",
        "dt_model = DecisionTreeRegressor(random_state=42)\n",
        "dt_model.fit(X_train, y_train)\n",
        "y_pred_dt = dt_model.predict(X_test)\n",
        "\n",
        "# 2. k-NN Regression\n",
        "knn_model = KNeighborsRegressor(n_neighbors=5)\n",
        "knn_model.fit(X_train_scaled, y_train)\n",
        "y_pred_knn = knn_model.predict(X_test_scaled)\n",
        "\n",
        "# 3. Linear Regression\n",
        "lr_model = LinearRegression()\n",
        "lr_model.fit(X_train_scaled, y_train)\n",
        "y_pred_lr = lr_model.predict(X_test_scaled)\n",
        "\n",
        "# 4. Basis Function Linear Regression (Polynomial Regression)\n",
        "poly = PolynomialFeatures(degree=2)\n",
        "X_train_poly = poly.fit_transform(X_train_scaled)\n",
        "X_test_poly = poly.transform(X_test_scaled)\n",
        "\n",
        "lr_poly_model = LinearRegression()\n",
        "lr_poly_model.fit(X_train_poly, y_train)\n",
        "y_pred_lr_poly = lr_poly_model.predict(X_test_poly)\n",
        "\n",
        "# Evaluation Metrics\n",
        "def evaluate_model(y_test, y_pred):\n",
        "    mse = mean_squared_error(y_test, y_pred)\n",
        "    rmse = math.sqrt(mse)\n",
        "    r2 = r2_score(y_test, y_pred)\n",
        "    return mse, rmse, r2\n",
        "\n",
        "# Evaluate Decision Tree\n",
        "mse_dt, rmse_dt, r2_dt = evaluate_model(y_test, y_pred_dt)\n",
        "\n",
        "# Evaluate k-NN\n",
        "mse_knn, rmse_knn, r2_knn = evaluate_model(y_test, y_pred_knn)\n",
        "\n",
        "# Evaluate Linear Regression\n",
        "mse_lr, rmse_lr, r2_lr = evaluate_model(y_test, y_pred_lr)\n",
        "\n",
        "# Evaluate Polynomial Regression\n",
        "mse_lr_poly, rmse_lr_poly, r2_lr_poly = evaluate_model(y_test, y_pred_lr_poly)\n",
        "\n",
        "# Display the results\n",
        "results = pd.DataFrame({\n",
        "    'Model': ['Decision Tree', 'k-NN', 'Linear Regression', 'Polynomial Regression'],\n",
        "    'MSE': [mse_dt, mse_knn, mse_lr, mse_lr_poly],\n",
        "    'RMSE': [rmse_dt, rmse_knn, rmse_lr, rmse_lr_poly],\n",
        "    'R-Squared': [r2_dt, r2_knn, r2_lr, r2_lr_poly]\n",
        "})\n",
        "\n",
        "# Tampilkan hasil yang sudah dibulatkan\n",
        "print(results)"
      ],
      "metadata": {
        "colab": {
          "base_uri": "https://localhost:8080/"
        },
        "id": "rcdVNidS8WnU",
        "outputId": "5656817e-c49b-4241-cb99-8a79571b7e95"
      },
      "execution_count": 15,
      "outputs": [
        {
          "output_type": "stream",
          "name": "stdout",
          "text": [
            "                   Model           MSE          RMSE     R-Squared\n",
            "0          Decision Tree  5.166876e+06  2.273076e+03  1.108501e-01\n",
            "1                   k-NN  4.133408e+06  2.033079e+03  2.886960e-01\n",
            "2      Linear Regression  2.933582e+06  1.712770e+03  4.951699e-01\n",
            "3  Polynomial Regression  9.134224e+29  9.557313e+14 -1.571877e+23\n"
          ]
        }
      ]
    }
  ]
}