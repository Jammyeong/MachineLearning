{
  "nbformat": 4,
  "nbformat_minor": 0,
  "metadata": {
    "colab": {
      "provenance": [],
      "mount_file_id": "1icunejZG8v7-5_Gen6rwQdD48qNW-xn5",
      "authorship_tag": "ABX9TyObi3u/xOxCGnOL3VXfrUu4",
      "include_colab_link": true
    },
    "kernelspec": {
      "name": "python3",
      "display_name": "Python 3"
    },
    "language_info": {
      "name": "python"
    }
  },
  "cells": [
    {
      "cell_type": "markdown",
      "metadata": {
        "id": "view-in-github",
        "colab_type": "text"
      },
      "source": [
        "<a href=\"https://colab.research.google.com/github/Jammyeong/MachineLearning/blob/main/Tugas_week_1.ipynb\" target=\"_parent\"><img src=\"https://colab.research.google.com/assets/colab-badge.svg\" alt=\"Open In Colab\"/></a>"
      ]
    },
    {
      "cell_type": "markdown",
      "source": [
        "# Tugas Week 1 Machine Learning\n",
        "\n",
        "Nama: Nisrina Nurjauza Fasya"
      ],
      "metadata": {
        "id": "vlfRkvs_cXRR"
      }
    },
    {
      "cell_type": "markdown",
      "source": [
        "## Classification model: membuat model classifcation dengan logistics regression dan K-NN"
      ],
      "metadata": {
        "id": "hfCU0esKcdOL"
      }
    },
    {
      "cell_type": "markdown",
      "source": [
        "### Logistic Regression & K-NN dengan Iris Dataset"
      ],
      "metadata": {
        "id": "-BGm5V4H-AWO"
      }
    },
    {
      "cell_type": "code",
      "source": [
        "# Import library yang dibutuhkan\n",
        "import numpy as np  # untuk perhitungan numerik\n",
        "import pandas as pd  # untuk manipulasi data\n",
        "from sklearn.model_selection import train_test_split  # untuk membagi data menjadi training dan testing\n",
        "from sklearn.preprocessing import StandardScaler  # untuk normalisasi fitur\n",
        "from sklearn.neighbors import KNeighborsClassifier  # untuk K-NN\n",
        "from sklearn.linear_model import LogisticRegression  # untuk Logistic Regression\n",
        "from sklearn.metrics import accuracy_score, classification_report  # untuk evaluasi model\n",
        "from sklearn.datasets import load_iris  # untuk memuat dataset Iris\n"
      ],
      "metadata": {
        "id": "4a8pvT6Pcj6S"
      },
      "execution_count": 43,
      "outputs": []
    },
    {
      "cell_type": "code",
      "source": [
        "# Menggunakan dataset Iris yang sudah ada di scikit-learn\n",
        "iris = pd.read_csv('/content/drive/MyDrive/SEMESTER 7/Iris.csv')\n",
        "\n",
        "X = iris[['SepalLengthCm','SepalWidthCm','PetalLengthCm','PetalWidthCm']] # X berisi fitur-fitur dari dataset Iris (panjang dan lebar kelopak, panjang dan lebar mahkota)\n",
        "y = iris[['Species']] # y berisi label atau target klasifikasi (spesies bunga)\n",
        "\n",
        "# Melihat bentuk dari data\n",
        "print(\"Bentuk fitur: \", X.shape)\n",
        "print(\"Bentuk target: \", y.shape)\n"
      ],
      "metadata": {
        "colab": {
          "base_uri": "https://localhost:8080/"
        },
        "id": "6qu523Fn75bo",
        "outputId": "9348235a-b79d-4382-abd5-8f80d5ce4ca6"
      },
      "execution_count": 46,
      "outputs": [
        {
          "output_type": "stream",
          "name": "stdout",
          "text": [
            "Bentuk fitur:  (150, 4)\n",
            "Bentuk target:  (150, 1)\n"
          ]
        }
      ]
    },
    {
      "cell_type": "code",
      "source": [
        "# Membagi dataset menjadi 80% training dan 20% testing\n",
        "X_train, X_test, y_train, y_test = train_test_split(X, y, test_size=0.2, random_state=42)\n",
        "\n",
        "# Normalisasi fitur agar skala data konsisten\n",
        "scaler = StandardScaler() # Membuat instance StandardScaler\n",
        "X_train = scaler.fit_transform(X_train) # Normalisasi data training\n",
        "X_test = scaler.transform(X_test) # Normalisasi data testing (menggunakan skala dari data training)\n"
      ],
      "metadata": {
        "id": "S-29uZ3e8JZ9"
      },
      "execution_count": 50,
      "outputs": []
    },
    {
      "cell_type": "code",
      "source": [
        "# Membuat model Logistic Regression\n",
        "log_reg = LogisticRegression()\n",
        "\n",
        "# Melatih model menggunakan data training\n",
        "log_reg.fit(X_train, y_train)\n",
        "\n",
        "# Melakukan prediksi pada data testing\n",
        "y_pred_log_reg = log_reg.predict(X_test)\n",
        "\n",
        "# Mengevaluasi akurasi model Logistic Regression\n",
        "print(\"Akurasi Logistic Regression: \", accuracy_score(y_test, y_pred_log_reg)) # Menampilkan akurasi\n",
        "print(\"Laporan Klasifikasi Logistic Regression:\\n\", classification_report(y_test, y_pred_log_reg)) # Menampilkan laporan klasifikasi\n"
      ],
      "metadata": {
        "colab": {
          "base_uri": "https://localhost:8080/"
        },
        "id": "8hMgh3V68bIF",
        "outputId": "b95d7723-5835-46cb-e97c-89352af45841"
      },
      "execution_count": 51,
      "outputs": [
        {
          "output_type": "stream",
          "name": "stdout",
          "text": [
            "Akurasi Logistic Regression:  1.0\n",
            "Laporan Klasifikasi Logistic Regression:\n",
            "                  precision    recall  f1-score   support\n",
            "\n",
            "    Iris-setosa       1.00      1.00      1.00        10\n",
            "Iris-versicolor       1.00      1.00      1.00         9\n",
            " Iris-virginica       1.00      1.00      1.00        11\n",
            "\n",
            "       accuracy                           1.00        30\n",
            "      macro avg       1.00      1.00      1.00        30\n",
            "   weighted avg       1.00      1.00      1.00        30\n",
            "\n"
          ]
        },
        {
          "output_type": "stream",
          "name": "stderr",
          "text": [
            "/usr/local/lib/python3.10/dist-packages/sklearn/utils/validation.py:1339: DataConversionWarning: A column-vector y was passed when a 1d array was expected. Please change the shape of y to (n_samples, ), for example using ravel().\n",
            "  y = column_or_1d(y, warn=True)\n"
          ]
        }
      ]
    },
    {
      "cell_type": "code",
      "source": [
        "# Membuat model K-NN dengan jumlah tetangga = 5\n",
        "knn = KNeighborsClassifier(n_neighbors=5)\n",
        "\n",
        "# Melatih model K-NN menggunakan data training\n",
        "knn.fit(X_train, y_train)\n",
        "\n",
        "# Melakukan prediksi pada data testing\n",
        "y_pred_knn = knn.predict(X_test)\n",
        "\n",
        "# Mengevaluasi akurasi model K-NN\n",
        "print(\"Akurasi K-NN: \", accuracy_score(y_test, y_pred_knn)) # Menampilkan akurasi\n",
        "print(\"Laporan Klasifikasi K-NN:\\n\", classification_report(y_test, y_pred_knn)) # Menampilkan laporan klasifikasi\n"
      ],
      "metadata": {
        "colab": {
          "base_uri": "https://localhost:8080/"
        },
        "id": "aoyse6Pa8eyb",
        "outputId": "60b61f6a-bac5-467f-81a3-2d3abee732ac"
      },
      "execution_count": 52,
      "outputs": [
        {
          "output_type": "stream",
          "name": "stdout",
          "text": [
            "Akurasi K-NN:  1.0\n",
            "Laporan Klasifikasi K-NN:\n",
            "                  precision    recall  f1-score   support\n",
            "\n",
            "    Iris-setosa       1.00      1.00      1.00        10\n",
            "Iris-versicolor       1.00      1.00      1.00         9\n",
            " Iris-virginica       1.00      1.00      1.00        11\n",
            "\n",
            "       accuracy                           1.00        30\n",
            "      macro avg       1.00      1.00      1.00        30\n",
            "   weighted avg       1.00      1.00      1.00        30\n",
            "\n"
          ]
        },
        {
          "output_type": "stream",
          "name": "stderr",
          "text": [
            "/usr/local/lib/python3.10/dist-packages/sklearn/neighbors/_classification.py:238: DataConversionWarning: A column-vector y was passed when a 1d array was expected. Please change the shape of y to (n_samples,), for example using ravel().\n",
            "  return self._fit(X, y)\n"
          ]
        }
      ]
    },
    {
      "cell_type": "markdown",
      "source": [
        "### Logistic Regression & K-NN dengan Social Network Ads Dataset"
      ],
      "metadata": {
        "id": "n3Rnoxaa-IL9"
      }
    },
    {
      "cell_type": "code",
      "source": [
        "# Mengimpor modul drive dari Google Colab\n",
        "from google.colab import drive\n",
        "\n",
        "# Memasang (mount) Google Drive ke dalam environment Colab\n",
        "drive.mount('/content/drive')"
      ],
      "metadata": {
        "colab": {
          "base_uri": "https://localhost:8080/"
        },
        "id": "051OVen__baZ",
        "outputId": "d23e1cf5-b51e-4778-cadc-30516dc1ca35"
      },
      "execution_count": 53,
      "outputs": [
        {
          "output_type": "stream",
          "name": "stdout",
          "text": [
            "Drive already mounted at /content/drive; to attempt to forcibly remount, call drive.mount(\"/content/drive\", force_remount=True).\n"
          ]
        }
      ]
    },
    {
      "cell_type": "code",
      "source": [
        "# Membaca dataset dari file CSV\n",
        "social_ads = pd.read_csv('/content/drive/MyDrive/SEMESTER 7/Social_Network_Ads.csv')\n",
        "\n",
        "# Melihat 5 baris pertama dari dataset untuk memahami strukturnya\n",
        "print(social_ads.head())\n",
        "\n",
        "# X berisi fitur-fitur yang relevan (misalnya Age dan EstimatedSalary)\n",
        "# y berisi label (Purchased)\n",
        "X_ads = social_ads[['Age', 'EstimatedSalary']].values\n",
        "y_ads = social_ads['Purchased'].values\n"
      ],
      "metadata": {
        "colab": {
          "base_uri": "https://localhost:8080/"
        },
        "id": "wOKhLyKs-RAP",
        "outputId": "365b54b9-e172-4d16-c857-9f82a1c469f1"
      },
      "execution_count": 54,
      "outputs": [
        {
          "output_type": "stream",
          "name": "stdout",
          "text": [
            "   Age  EstimatedSalary  Purchased\n",
            "0   19            19000          0\n",
            "1   35            20000          0\n",
            "2   26            43000          0\n",
            "3   27            57000          0\n",
            "4   19            76000          0\n"
          ]
        }
      ]
    },
    {
      "cell_type": "code",
      "source": [
        "# Membagi dataset menjadi 75% training dan 25% testing\n",
        "X_train_ads, X_test_ads, y_train_ads, y_test_ads = train_test_split(X_ads, y_ads, test_size=0.25, random_state=42)\n",
        "\n",
        "# Normalisasi fitur\n",
        "scaler_ads = StandardScaler() # Membuat instance StandardScaler\n",
        "X_train_ads = scaler_ads.fit_transform(X_train_ads) # Normalisasi data training\n",
        "X_test_ads = scaler_ads.transform(X_test_ads) # Normalisasi data testing (menggunakan skala dari data training)\n"
      ],
      "metadata": {
        "id": "lqrISstkADvb"
      },
      "execution_count": 55,
      "outputs": []
    },
    {
      "cell_type": "code",
      "source": [
        "# Membuat model Logistic Regression untuk Social Network Ads dataset\n",
        "log_reg_ads = LogisticRegression()\n",
        "\n",
        "# Melatih model Logistic Regression dengan data training\n",
        "log_reg_ads.fit(X_train_ads, y_train_ads)\n",
        "\n",
        "# Melakukan prediksi pada data testing\n",
        "y_pred_log_reg_ads = log_reg_ads.predict(X_test_ads)\n",
        "\n",
        "# Mengevaluasi akurasi model Logistic Regression\n",
        "print(\"Akurasi Logistic Regression (Social Network Ads): \", accuracy_score(y_test_ads, y_pred_log_reg_ads)) # Menampilkan akurasi\n",
        "print(\"Laporan Klasifikasi Logistic Regression (Social Network Ads):\\n\", classification_report(y_test_ads, y_pred_log_reg_ads)) # Menampilkan laporan klasifikasi\n"
      ],
      "metadata": {
        "colab": {
          "base_uri": "https://localhost:8080/"
        },
        "id": "BuFQrDWOAHrW",
        "outputId": "e71f448a-c589-4e09-af02-e7e21612579f"
      },
      "execution_count": 56,
      "outputs": [
        {
          "output_type": "stream",
          "name": "stdout",
          "text": [
            "Akurasi Logistic Regression (Social Network Ads):  0.86\n",
            "Laporan Klasifikasi Logistic Regression (Social Network Ads):\n",
            "               precision    recall  f1-score   support\n",
            "\n",
            "           0       0.84      0.97      0.90        63\n",
            "           1       0.93      0.68      0.78        37\n",
            "\n",
            "    accuracy                           0.86       100\n",
            "   macro avg       0.88      0.82      0.84       100\n",
            "weighted avg       0.87      0.86      0.85       100\n",
            "\n"
          ]
        }
      ]
    },
    {
      "cell_type": "code",
      "source": [
        "# Membuat model K-NN dengan jumlah tetangga = 5 untuk Social Network Ads dataset\n",
        "knn_ads = KNeighborsClassifier(n_neighbors=5)\n",
        "\n",
        "# Melatih model K-NN menggunakan data training\n",
        "knn_ads.fit(X_train_ads, y_train_ads)\n",
        "\n",
        "# Melakukan prediksi pada data testing\n",
        "y_pred_knn_ads = knn_ads.predict(X_test_ads)\n",
        "\n",
        "# Mengevaluasi akurasi model K-NN\n",
        "print(\"Akurasi K-NN (Social Network Ads): \", accuracy_score(y_test_ads, y_pred_knn_ads)) # Menampilkan akurasi\n",
        "print(\"Laporan Klasifikasi K-NN (Social Network Ads):\\n\", classification_report(y_test_ads, y_pred_knn_ads)) # Menampilkan laporan klasifikasi\n"
      ],
      "metadata": {
        "colab": {
          "base_uri": "https://localhost:8080/"
        },
        "id": "mgoKGjT7AKHr",
        "outputId": "6954183f-d67f-45a5-a375-759149ab7b53"
      },
      "execution_count": 57,
      "outputs": [
        {
          "output_type": "stream",
          "name": "stdout",
          "text": [
            "Akurasi K-NN (Social Network Ads):  0.93\n",
            "Laporan Klasifikasi K-NN (Social Network Ads):\n",
            "               precision    recall  f1-score   support\n",
            "\n",
            "           0       0.95      0.94      0.94        63\n",
            "           1       0.89      0.92      0.91        37\n",
            "\n",
            "    accuracy                           0.93       100\n",
            "   macro avg       0.92      0.93      0.93       100\n",
            "weighted avg       0.93      0.93      0.93       100\n",
            "\n"
          ]
        }
      ]
    },
    {
      "cell_type": "markdown",
      "source": [
        "## Simple Linear Regression"
      ],
      "metadata": {
        "id": "WjR9RvtUPmHX"
      }
    },
    {
      "cell_type": "code",
      "source": [
        "# Import library yang dibutuhkan\n",
        "import numpy as np  # untuk perhitungan numerik\n",
        "import pandas as pd  # untuk manipulasi data\n",
        "import matplotlib.pyplot as plt  # untuk visualisasi\n",
        "from sklearn.model_selection import train_test_split  # untuk membagi data menjadi training dan testing\n",
        "from sklearn.linear_model import LinearRegression  # untuk Simple Linear Regression\n",
        "from sklearn.preprocessing import PolynomialFeatures  # untuk Polynomial Regression\n",
        "from sklearn.metrics import mean_squared_error  # untuk evaluasi model\n",
        "\n",
        "# Memuat dataset Salary Data dari CSV\n",
        "salary_data = pd.read_csv('/content/drive/MyDrive/SEMESTER 7/Salary_Data.csv')\n",
        "\n",
        "# Memisahkan fitur (X) dan target (y)\n",
        "X = salary_data[['YearsExperience']]  # fitur adalah pengalaman kerja (YearsExperience)\n",
        "y = salary_data['Salary']  # target adalah gaji (Salary)\n",
        "\n",
        "# Membagi dataset menjadi data training dan testing (80% training, 20% testing)\n",
        "X_train, X_test, y_train, y_test = train_test_split(X, y, test_size=0.2, random_state=42)\n"
      ],
      "metadata": {
        "id": "Y5FJIDCXPrcB"
      },
      "execution_count": 58,
      "outputs": []
    },
    {
      "cell_type": "code",
      "source": [
        "# Membuat model Simple Linear Regression\n",
        "linear_reg = LinearRegression()\n",
        "\n",
        "# Melatih model menggunakan data training\n",
        "linear_reg.fit(X_train, y_train)\n",
        "\n",
        "# Memprediksi data testing\n",
        "y_pred = linear_reg.predict(X_test)\n",
        "\n",
        "# Evaluasi model dengan menghitung Mean Squared Error\n",
        "mse = mean_squared_error(y_test, y_pred)\n",
        "print(f'Mean Squared Error for Simple Linear Regression (Salary Data): {mse}')\n",
        "\n",
        "# Visualisasi hasil\n",
        "plt.scatter(X_test, y_test, color='red')  # Menampilkan data aktual\n",
        "plt.plot(X_test, y_pred, color='blue')  # Menampilkan prediksi regresi linear\n",
        "plt.title('Simple Linear Regression (Salary vs Experience)')\n",
        "plt.xlabel('Years of Experience')\n",
        "plt.ylabel('Salary')\n",
        "plt.show()\n"
      ],
      "metadata": {
        "colab": {
          "base_uri": "https://localhost:8080/",
          "height": 489
        },
        "id": "sK7CwerTQlC-",
        "outputId": "9d981f9c-a910-417c-9c06-c5b702dcf40d"
      },
      "execution_count": 59,
      "outputs": [
        {
          "output_type": "stream",
          "name": "stdout",
          "text": [
            "Mean Squared Error for Simple Linear Regression (Salary Data): 49830096.85590839\n"
          ]
        },
        {
          "output_type": "display_data",
          "data": {
            "text/plain": [
              "<Figure size 640x480 with 1 Axes>"
            ],
            "image/png": "[encoded data removed]"
          },
          "metadata": {}
        }
      ]
    },
    {
      "cell_type": "markdown",
      "source": [
        "## Multiple Linear Regression"
      ],
      "metadata": {
        "id": "qJlykWkUQms5"
      }
    },
    {
      "cell_type": "code",
      "source": [
        "# Memuat dataset 50 Startups dari CSV\n",
        "startup_data = pd.read_csv('/content/drive/MyDrive/SEMESTER 7/50_Startups.csv')\n",
        "\n",
        "# Memisahkan fitur (X) dan target (y)\n",
        "X = startup_data[['R&D Spend', 'Administration', 'Marketing Spend']]  # fitur adalah pengeluaran R&D, Administrasi, dan Marketing\n",
        "y = startup_data['Profit']  # target adalah profit\n",
        "\n",
        "# Membagi dataset menjadi data training dan testing\n",
        "X_train, X_test, y_train, y_test = train_test_split(X, y, test_size=0.2, random_state=42)\n"
      ],
      "metadata": {
        "id": "jTx3zQyBRbjQ"
      },
      "execution_count": 60,
      "outputs": []
    },
    {
      "cell_type": "code",
      "source": [
        "# Membuat model Multiple Linear Regression\n",
        "multi_reg = LinearRegression()\n",
        "\n",
        "# Melatih model menggunakan data training\n",
        "multi_reg.fit(X_train, y_train)\n",
        "\n",
        "# Memprediksi data testing\n",
        "y_pred = multi_reg.predict(X_test)\n",
        "\n",
        "# Evaluasi model dengan menghitung Mean Squared Error\n",
        "mse = mean_squared_error(y_test, y_pred)\n",
        "print(f'Mean Squared Error for Multiple Linear Regression (50 Startups): {mse}')\n"
      ],
      "metadata": {
        "colab": {
          "base_uri": "https://localhost:8080/"
        },
        "id": "ivHRDuHCRdRx",
        "outputId": "507e38d9-71d2-461a-f4a1-434227895cc4"
      },
      "execution_count": 61,
      "outputs": [
        {
          "output_type": "stream",
          "name": "stdout",
          "text": [
            "Mean Squared Error for Multiple Linear Regression (50 Startups): 80926321.22295158\n"
          ]
        }
      ]
    },
    {
      "cell_type": "markdown",
      "source": [
        "## Polynomial Regression"
      ],
      "metadata": {
        "id": "gZI4LouGRjqu"
      }
    },
    {
      "cell_type": "code",
      "source": [
        "# Memuat dataset Position Salaries dari CSV\n",
        "position_data = pd.read_csv('/content/drive/MyDrive/SEMESTER 7/Position_Salaries.csv')\n",
        "\n",
        "# Memisahkan fitur (X) dan target (y)\n",
        "X = position_data[['Level']]  # fitur adalah level jabatan\n",
        "y = position_data['Salary']  # target adalah gaji\n",
        "\n",
        "# Tidak perlu membagi dataset menjadi training dan testing karena ini hanya untuk fitting model.\n"
      ],
      "metadata": {
        "id": "rJ2o8mLnRmRU"
      },
      "execution_count": 62,
      "outputs": []
    },
    {
      "cell_type": "code",
      "source": [
        "# Membuat fitur polinomial dengan derajat 4\n",
        "poly_features = PolynomialFeatures(degree=4)\n",
        "\n",
        "# Mengubah fitur menjadi fitur polinomial\n",
        "X_poly = poly_features.fit_transform(X)\n",
        "\n",
        "# Membuat model Linear Regression untuk Polynomial Regression\n",
        "poly_reg = LinearRegression()\n",
        "\n",
        "# Melatih model menggunakan fitur polinomial\n",
        "poly_reg.fit(X_poly, y)\n",
        "\n",
        "# Memprediksi hasil dengan Polynomial Regression\n",
        "y_pred = poly_reg.predict(X_poly)\n",
        "\n",
        "# Visualisasi hasil Polynomial Regression\n",
        "plt.scatter(X, y, color='red')  # Menampilkan data aktual\n",
        "plt.plot(X, y_pred, color='blue')  # Menampilkan kurva hasil regresi polinomial\n",
        "plt.title('Polynomial Regression (Position vs Salary)')\n",
        "plt.xlabel('Position Level')\n",
        "plt.ylabel('Salary')\n",
        "plt.show()\n"
      ],
      "metadata": {
        "colab": {
          "base_uri": "https://localhost:8080/",
          "height": 472
        },
        "id": "OmBQCHrZRned",
        "outputId": "a9f556d4-fc4c-46f6-c176-83851deb2872"
      },
      "execution_count": 63,
      "outputs": [
        {
          "output_type": "display_data",
          "data": {
            "text/plain": [
              "<Figure size 640x480 with 1 Axes>"
            ],
            "image/png": "[encoded data removed]"
          },
          "metadata": {}
        }
      ]
    }
  ]
}